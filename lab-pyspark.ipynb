{
 "cells": [
  {
   "cell_type": "code",
   "execution_count": 19,
   "metadata": {},
   "outputs": [],
   "source": [
    "import findspark\n",
    "findspark.init()\n",
    "import pyspark\n",
    "from pyspark.sql import SparkSession\n",
    "import pandas as pd\n",
    "import numpy as np\n",
    "import os"
   ]
  },
  {
   "cell_type": "code",
   "execution_count": 2,
   "metadata": {},
   "outputs": [],
   "source": [
    "sc = pyspark.SparkContext(appName=\"Test\")"
   ]
  },
  {
   "cell_type": "code",
   "execution_count": 3,
   "metadata": {},
   "outputs": [],
   "source": [
    "spark = SparkSession.builder.getOrCreate()"
   ]
  },
  {
   "cell_type": "code",
   "execution_count": 5,
   "metadata": {},
   "outputs": [
    {
     "data": {
      "text/plain": [
       "[]"
      ]
     },
     "execution_count": 5,
     "metadata": {},
     "output_type": "execute_result"
    }
   ],
   "source": [
    "spark.catalog.listTables()"
   ]
  },
  {
   "cell_type": "code",
   "execution_count": 11,
   "metadata": {},
   "outputs": [],
   "source": [
    "# Create pd_temp\n",
    "pd_temp = pd.DataFrame(np.random.random(10))"
   ]
  },
  {
   "cell_type": "code",
   "execution_count": 12,
   "metadata": {},
   "outputs": [
    {
     "data": {
      "text/html": [
       "<div>\n",
       "<style scoped>\n",
       "    .dataframe tbody tr th:only-of-type {\n",
       "        vertical-align: middle;\n",
       "    }\n",
       "\n",
       "    .dataframe tbody tr th {\n",
       "        vertical-align: top;\n",
       "    }\n",
       "\n",
       "    .dataframe thead th {\n",
       "        text-align: right;\n",
       "    }\n",
       "</style>\n",
       "<table border=\"1\" class=\"dataframe\">\n",
       "  <thead>\n",
       "    <tr style=\"text-align: right;\">\n",
       "      <th></th>\n",
       "      <th>0</th>\n",
       "    </tr>\n",
       "  </thead>\n",
       "  <tbody>\n",
       "    <tr>\n",
       "      <th>0</th>\n",
       "      <td>0.373570</td>\n",
       "    </tr>\n",
       "    <tr>\n",
       "      <th>1</th>\n",
       "      <td>0.299461</td>\n",
       "    </tr>\n",
       "    <tr>\n",
       "      <th>2</th>\n",
       "      <td>0.106243</td>\n",
       "    </tr>\n",
       "    <tr>\n",
       "      <th>3</th>\n",
       "      <td>0.324899</td>\n",
       "    </tr>\n",
       "    <tr>\n",
       "      <th>4</th>\n",
       "      <td>0.146596</td>\n",
       "    </tr>\n",
       "    <tr>\n",
       "      <th>5</th>\n",
       "      <td>0.845526</td>\n",
       "    </tr>\n",
       "    <tr>\n",
       "      <th>6</th>\n",
       "      <td>0.397989</td>\n",
       "    </tr>\n",
       "    <tr>\n",
       "      <th>7</th>\n",
       "      <td>0.624958</td>\n",
       "    </tr>\n",
       "    <tr>\n",
       "      <th>8</th>\n",
       "      <td>0.264176</td>\n",
       "    </tr>\n",
       "    <tr>\n",
       "      <th>9</th>\n",
       "      <td>0.504396</td>\n",
       "    </tr>\n",
       "  </tbody>\n",
       "</table>\n",
       "</div>"
      ],
      "text/plain": [
       "          0\n",
       "0  0.373570\n",
       "1  0.299461\n",
       "2  0.106243\n",
       "3  0.324899\n",
       "4  0.146596\n",
       "5  0.845526\n",
       "6  0.397989\n",
       "7  0.624958\n",
       "8  0.264176\n",
       "9  0.504396"
      ]
     },
     "execution_count": 12,
     "metadata": {},
     "output_type": "execute_result"
    }
   ],
   "source": [
    "pd_temp"
   ]
  },
  {
   "cell_type": "code",
   "execution_count": 13,
   "metadata": {},
   "outputs": [],
   "source": [
    "# Create spark_temp from pd_temp\n",
    "spark_temp = spark.createDataFrame(pd_temp)"
   ]
  },
  {
   "cell_type": "code",
   "execution_count": 15,
   "metadata": {},
   "outputs": [
    {
     "name": "stdout",
     "output_type": "stream",
     "text": [
      "+-------------------+\n",
      "|                  0|\n",
      "+-------------------+\n",
      "| 0.3735697605572128|\n",
      "| 0.2994613481293389|\n",
      "|0.10624306224626434|\n",
      "|0.32489926687458326|\n",
      "|0.14659599897197795|\n",
      "| 0.8455256376005582|\n",
      "|0.39798908360638774|\n",
      "| 0.6249576927341451|\n",
      "| 0.2641758060590681|\n",
      "| 0.5043961973892639|\n",
      "+-------------------+\n",
      "\n"
     ]
    }
   ],
   "source": [
    "spark_temp.show()"
   ]
  },
  {
   "cell_type": "code",
   "execution_count": 16,
   "metadata": {},
   "outputs": [
    {
     "name": "stdout",
     "output_type": "stream",
     "text": [
      "[]\n"
     ]
    }
   ],
   "source": [
    "# Examine the tables in the catalog\n",
    "print(spark.catalog.listTables())"
   ]
  },
  {
   "cell_type": "code",
   "execution_count": 17,
   "metadata": {},
   "outputs": [],
   "source": [
    "# Add spark_temp to the catalog\n",
    "spark_temp.createOrReplaceTempView('temp')"
   ]
  },
  {
   "cell_type": "code",
   "execution_count": 18,
   "metadata": {},
   "outputs": [
    {
     "name": "stdout",
     "output_type": "stream",
     "text": [
      "[Table(name='temp', database=None, description=None, tableType='TEMPORARY', isTemporary=True)]\n"
     ]
    }
   ],
   "source": [
    "# Examine the tables in the catalog again\n",
    "print(spark.catalog.listTables())"
   ]
  },
  {
   "cell_type": "code",
   "execution_count": 20,
   "metadata": {},
   "outputs": [],
   "source": [
    "def getPath(*paths):\n",
    "    workspace_dir = os.path.abspath(os.path.join(os.getcwd()))\n",
    "    path = os.path.join(workspace_dir, *paths)\n",
    "    return path"
   ]
  },
  {
   "cell_type": "code",
   "execution_count": 26,
   "metadata": {},
   "outputs": [],
   "source": [
    "spark_csv1 = spark.read.csv(\n",
    "    getPath('data', 'BI', 'NW-Outlet-Sales-Transaction-091011-2017.csv'), \n",
    "    header=True, \n",
    "    sep='\\t')"
   ]
  },
  {
   "cell_type": "code",
   "execution_count": 27,
   "metadata": {
    "scrolled": true
   },
   "outputs": [
    {
     "name": "stdout",
     "output_type": "stream",
     "text": [
      "+---+--------------------+---------+---------------+--------+------------+---------+------------------+------------+-------+---------------+----------------+-------------------+--------------------+--------------------+------------------+---------------------+-----------+\n",
      "|_c0|              BRANDY|CAL_MONTH|           CITY|DATE_KEY|DAY_OF_MONTH| DIVISION|       GROSS_SALES|LOCAL_REGION| OUTLET|OUTLET_LATITUDE|OUTLET_LONGITUDE|        POSITION_CD|             STD_SKU|        SUBCAT_BRAND|      SUB_DIVISION|TOTAL_SPENT_PROMOTION|URBAN_RURAL|\n",
      "+---+--------------------+---------+---------------+--------+------------+---------+------------------+------------+-------+---------------+----------------+-------------------+--------------------+--------------------+------------------+---------------------+-----------+\n",
      "|  0|              Chinsu|        9|   T. Thái Bình|20170904|           4|    Foods| 432000.0000000000|    Miền Bắc| 112745|  20.4336933000|  106.3648159000|  SM-GV-10KF0830.01|Chilli Sauces Chi...|Chilli Sauces - C...|         Seasoning|                    0|          U|\n",
      "|  1|         Omachi base|        9|   T. Bắc Giang|20170906|           6|    Foods| 672000.0000000000|    Miền Bắc|2100552|  21.2829870000|  106.2192229000|  SM-FM-10KF1210.11|Instant Noodle Om...|Instant Noodle - ...| Convenience Foods|                    0|          U|\n",
      "|  2|              Chinsu|        9|   T. Bình Định|20170908|           8|    Foods| 216000.0000000000|  Miền Trung| 352731|  14.4592805000|  109.0780377000|  SM-MI-10KF1618.01|Chilli Sauces Chi...|Chilli Sauces - C...|         Seasoning|                    0|          R|\n",
      "|  3|     Wake up SG 3in1|       10|    T. Bắc Ninh|20171023|          23|Beverages|  70500.0000000000|    Miền Bắc| 167131|  21.1339701000|  106.0017086000|  SM-FM-10KF3085.04|Instant Coffee Wa...|Instant Coffee - ...|            Coffee|                    0|          R|\n",
      "|  4|           Rồng Việt|       11|    T. Lâm Đồng|20171124|          24|    Foods| 120000.0000000000|   Miền Đông| 295806|  11.9568407000|  108.4424523000|  SM-FM-10KF1717.04|Chilli Sauces Rồn...|Chilli Sauces - R...|         Seasoning|                    0|          U|\n",
      "|  5|    Omachi Spaghetti|       11|  T. Bình Dương|20171101|           1|    Foods| 180000.0000000000|   Miền Đông|   6237|  10.9031305000|  106.7605037000|  SM-GV-10KF1327.03|Instant Noodle Om...|Instant Noodle - ...| Convenience Foods|                 2000|          R|\n",
      "|  6|     Heo cao bồi xốt|       11|   T. Khánh Hòa|20171110|          10|    Foods| 162000.0000000000|  Miền Trung| 141839|  12.5361920000|  109.0192264000|  SM-XX-10KF1062.01|Sterilized Sausag...|Sterilized Sausag...|   Processed Meats|                    0|          R|\n",
      "|  7|  Tam Thái Tử nhị ca|       10|TP. Hồ Chí Minh|20171031|          31|    Foods| 150000.0000000000| Hồ Chí Minh|  49794|  10.7481535000|  106.6373147000|SM-FM-10KF0997-1.07|Soya Sauces Tam T...|Soya Sauces - Tam...|         Seasoning|                 6250|          U|\n",
      "|  8|          Kokomi Đại|       10|TP. Hồ Chí Minh|20171006|           6|    Foods|  87000.0000000000| Hồ Chí Minh|  88264|  10.7433538000|  106.7313874000|SM-FM-10KF1291-2.07|Instant Noodle Ko...|Instant Noodle - ...| Convenience Foods|                    0|          U|\n",
      "|  9|          Kokomi Đại|       11|TP. Hồ Chí Minh|20171104|           4|    Foods|  87000.0000000000| Hồ Chí Minh|  88536|  10.6901297000|  106.7026083000|SM-FM-10KF1291-2.04|Instant Noodle Ko...|Instant Noodle - ...| Convenience Foods|                    0|          R|\n",
      "| 10|     Wake up SG 3in1|       11|  T. Bình Phước|20171127|          27|Beverages|1280000.0000000000|   Miền Đông| 171697|  11.5981889000|  106.6173179000|  SM-GV-10KF1139.01|Instant Coffee Wa...|Instant Coffee - ...|            Coffee|                34000|          R|\n",
      "| 11|         Wake up 247|        9|  T. Tiền Giang|20170907|           7|Beverages| 170000.0001600000|    Miền Tây| 276968|  10.2793325000|  106.5880875000|  SM-OF-10KF1372.03|Energy Drinks Wak...|Energy Drinks - W...|Refreshment Drinks|                10000|          R|\n",
      "| 12|            Vinacafe|        9|     T. Bến Tre|20170911|          11|Beverages| 665000.0000000000|    Miền Tây| 240193|  10.2594259000|  106.1189289000|  SM-FM-10KF1284.06|Instant Cereals V...|Instant Cereals -...|         Nutrition|                96500|          R|\n",
      "| 13|       Chinsu Cá Hồi|        9|  T. Bình Phước|20170921|          21|    Foods| 450000.0000000000|   Miền Đông| 157945|  12.0447361000|  107.0930252000|  SM-FM-10KF1106.02|Fish Sauces Chins...|Fish Sauces - Chinsu|         Seasoning|                    0|          R|\n",
      "| 14|          Omachi Hộp|       10|   T. Khánh Hòa|20171030|          30|    Foods|  75000.0000000000|  Miền Trung| 144069|  11.9169284000|  109.1567110000|  SM-GV-10KF1066.01|Instant Noodle Om...|Instant Noodle - ...| Convenience Foods|                    0|          U|\n",
      "| 15|            Tiến Vua|       11|  T. Bình Dương|20171127|          27|    Foods| 806000.0000000000|   Miền Đông|2223686|  10.9988668000|  106.7285779000|  SM-FM-10KF1170.02|Instant Noodle Ti...|Instant Noodle - ...| Convenience Foods|               186000|          R|\n",
      "| 16|           Mì Kokomi|       11|    T. An Giang|20171109|           9|    Foods|1070000.0000000000|    Miền Tây| 128650|  10.7678736000|  105.2068773000|  SM-FM-10KF1008.01|Instant Noodle Ko...|Instant Noodle - ...| Convenience Foods|               202500|          R|\n",
      "| 17|            Tiến Vua|       11|     T. Long An|20171118|          18|    Foods|  62000.0000000000|    Miền Tây|2185025|  10.4903681000|  106.4244726000|  SM-FM-10KF1013.02|Instant Noodle Ti...|Instant Noodle - ...| Convenience Foods|                12400|          R|\n",
      "| 18|Vĩnh Hảo chai nhự...|       11|    T. Tây Ninh|20171122|          22|Beverages| 140000.0000000000|   Miền Đông| 139397|  11.3198527000|  106.3213144000|  SM-LQ-10KF3175.03|Mineral Water Vĩn...|Mineral Water - V...|Refreshment Drinks|                    0|          R|\n",
      "| 19|        Nam Ngư nhất|        9|    T. Hà Giang|20170926|          26|    Foods| 531000.0000000000|    Miền Bắc| 312566|  22.8200647000|  104.9857734000|  SM-MI-10KF1134.01|Fish Sauces Nam N...|Fish Sauces - Nam...|         Seasoning|                    0|          U|\n",
      "+---+--------------------+---------+---------------+--------+------------+---------+------------------+------------+-------+---------------+----------------+-------------------+--------------------+--------------------+------------------+---------------------+-----------+\n",
      "only showing top 20 rows\n",
      "\n"
     ]
    }
   ],
   "source": [
    "spark_csv1.show()"
   ]
  },
  {
   "cell_type": "code",
   "execution_count": 30,
   "metadata": {},
   "outputs": [
    {
     "data": {
      "text/plain": [
       "[Table(name='temp', database=None, description=None, tableType='TEMPORARY', isTemporary=True)]"
      ]
     },
     "execution_count": 30,
     "metadata": {},
     "output_type": "execute_result"
    }
   ],
   "source": [
    "spark.catalog.listTables()"
   ]
  },
  {
   "cell_type": "code",
   "execution_count": 31,
   "metadata": {},
   "outputs": [],
   "source": [
    "spark_csv1.createOrReplaceTempView('transaction')"
   ]
  },
  {
   "cell_type": "code",
   "execution_count": 32,
   "metadata": {},
   "outputs": [
    {
     "data": {
      "text/plain": [
       "[Table(name='temp', database=None, description=None, tableType='TEMPORARY', isTemporary=True),\n",
       " Table(name='transaction', database=None, description=None, tableType='TEMPORARY', isTemporary=True)]"
      ]
     },
     "execution_count": 32,
     "metadata": {},
     "output_type": "execute_result"
    }
   ],
   "source": [
    "spark.catalog.listTables()"
   ]
  },
  {
   "cell_type": "code",
   "execution_count": 37,
   "metadata": {},
   "outputs": [],
   "source": [
    "query = \"SELECT OUTLET, STD_SKU, GROSS_SALES FROM transaction\"\n",
    "result = spark.sql(query)"
   ]
  },
  {
   "cell_type": "code",
   "execution_count": 42,
   "metadata": {},
   "outputs": [
    {
     "name": "stdout",
     "output_type": "stream",
     "text": [
      "+-------+--------------------------------------------------+------------------+\n",
      "|OUTLET |STD_SKU                                           |GROSS_SALES       |\n",
      "+-------+--------------------------------------------------+------------------+\n",
      "|112745 |Chilli Sauces Chinsu 250gr                        |432000.0000000000 |\n",
      "|2100552|Instant Noodle Omachi Bò 80gr                     |672000.0000000000 |\n",
      "|352731 |Chilli Sauces Chinsu 250gr                        |216000.0000000000 |\n",
      "|167131 |Instant Coffee Wake up 3 in 1 Sài Gòn 16gr        |70500.0000000000  |\n",
      "|295806 |Chilli Sauces Rồng Việt 200gr                     |120000.0000000000 |\n",
      "|6237   |Instant Noodle Omachi Spaghetti Bò 91gr           |180000.0000000000 |\n",
      "|141839 |Sterilized Sausages Heo cao bồi xốt spaghetti 20gr|162000.0000000000 |\n",
      "|49794  |Soya Sauces Tam Thái Tử Nhị Ca 500ml              |150000.0000000000 |\n",
      "|88264  |Instant Noodle Kokomi Đại hải sản 75gr            |87000.0000000000  |\n",
      "|88536  |Instant Noodle Kokomi Đại Tôm 75gr                |87000.0000000000  |\n",
      "|171697 |Instant Coffee Wake up 3 in 1 Sài Gòn 19gr        |1280000.0000000000|\n",
      "|276968 |Energy Drinks Wake up 247 Cà phê 330ml            |170000.0001600000 |\n",
      "|240193 |Instant Cereals Vinacafe Dinh Dưỡng 25gr          |665000.0000000000 |\n",
      "|157945 |Fish Sauces Chinsu Cá Hồi đậm đặc 500ml           |450000.0000000000 |\n",
      "|144069 |Instant Noodle Omachi Hộp Sườn (có thịt) 113gr    |75000.0000000000  |\n",
      "|2223686|Instant Noodle Tiến Vua Tôm 65gr                  |806000.0000000000 |\n",
      "|128650 |Instant Noodle Kokomi Tôm 100gói 65gr             |1070000.0000000000|\n",
      "|2185025|Instant Noodle Tiến Vua Tôm 65gr                  |62000.0000000000  |\n",
      "|139397 |Mineral Water Vĩnh Hảo Không ga 350ml             |140000.0000000000 |\n",
      "|312566 |Fish Sauces Nam Ngư 750ml                         |531000.0000000000 |\n",
      "+-------+--------------------------------------------------+------------------+\n",
      "only showing top 20 rows\n",
      "\n",
      "CPU times: user 2.61 ms, sys: 67 µs, total: 2.67 ms\n",
      "Wall time: 118 ms\n"
     ]
    }
   ],
   "source": [
    "%%time\n",
    "result.show(truncate=False)"
   ]
  },
  {
   "cell_type": "code",
   "execution_count": 48,
   "metadata": {},
   "outputs": [
    {
     "name": "stdout",
     "output_type": "stream",
     "text": [
      "CPU times: user 2.29 ms, sys: 0 ns, total: 2.29 ms\n",
      "Wall time: 5.75 ms\n"
     ]
    }
   ],
   "source": [
    "%%time\n",
    "# Create the DataFrame flights\n",
    "df_transaction = spark.table('transaction')"
   ]
  },
  {
   "cell_type": "code",
   "execution_count": 49,
   "metadata": {},
   "outputs": [
    {
     "data": {
      "text/plain": [
       "pyspark.sql.dataframe.DataFrame"
      ]
     },
     "execution_count": 49,
     "metadata": {},
     "output_type": "execute_result"
    }
   ],
   "source": [
    "type(df_transaction)"
   ]
  },
  {
   "cell_type": "code",
   "execution_count": 50,
   "metadata": {},
   "outputs": [],
   "source": [
    "# Add scale_gross_sales\n",
    "df_transaction = df_transaction.withColumn('scale_gross_sales', df_transaction.GROSS_SALES/1000000)"
   ]
  },
  {
   "cell_type": "code",
   "execution_count": 51,
   "metadata": {
    "scrolled": true
   },
   "outputs": [
    {
     "name": "stdout",
     "output_type": "stream",
     "text": [
      "+---+--------------------+---------+---------------+--------+------------+---------+------------------+------------+-------+---------------+----------------+-------------------+--------------------+--------------------+------------------+---------------------+-----------+-----------------+\n",
      "|_c0|              BRANDY|CAL_MONTH|           CITY|DATE_KEY|DAY_OF_MONTH| DIVISION|       GROSS_SALES|LOCAL_REGION| OUTLET|OUTLET_LATITUDE|OUTLET_LONGITUDE|        POSITION_CD|             STD_SKU|        SUBCAT_BRAND|      SUB_DIVISION|TOTAL_SPENT_PROMOTION|URBAN_RURAL|scale_gross_sales|\n",
      "+---+--------------------+---------+---------------+--------+------------+---------+------------------+------------+-------+---------------+----------------+-------------------+--------------------+--------------------+------------------+---------------------+-----------+-----------------+\n",
      "|  0|              Chinsu|        9|   T. Thái Bình|20170904|           4|    Foods| 432000.0000000000|    Miền Bắc| 112745|  20.4336933000|  106.3648159000|  SM-GV-10KF0830.01|Chilli Sauces Chi...|Chilli Sauces - C...|         Seasoning|                    0|          U|            0.432|\n",
      "|  1|         Omachi base|        9|   T. Bắc Giang|20170906|           6|    Foods| 672000.0000000000|    Miền Bắc|2100552|  21.2829870000|  106.2192229000|  SM-FM-10KF1210.11|Instant Noodle Om...|Instant Noodle - ...| Convenience Foods|                    0|          U|            0.672|\n",
      "|  2|              Chinsu|        9|   T. Bình Định|20170908|           8|    Foods| 216000.0000000000|  Miền Trung| 352731|  14.4592805000|  109.0780377000|  SM-MI-10KF1618.01|Chilli Sauces Chi...|Chilli Sauces - C...|         Seasoning|                    0|          R|            0.216|\n",
      "|  3|     Wake up SG 3in1|       10|    T. Bắc Ninh|20171023|          23|Beverages|  70500.0000000000|    Miền Bắc| 167131|  21.1339701000|  106.0017086000|  SM-FM-10KF3085.04|Instant Coffee Wa...|Instant Coffee - ...|            Coffee|                    0|          R|           0.0705|\n",
      "|  4|           Rồng Việt|       11|    T. Lâm Đồng|20171124|          24|    Foods| 120000.0000000000|   Miền Đông| 295806|  11.9568407000|  108.4424523000|  SM-FM-10KF1717.04|Chilli Sauces Rồn...|Chilli Sauces - R...|         Seasoning|                    0|          U|             0.12|\n",
      "|  5|    Omachi Spaghetti|       11|  T. Bình Dương|20171101|           1|    Foods| 180000.0000000000|   Miền Đông|   6237|  10.9031305000|  106.7605037000|  SM-GV-10KF1327.03|Instant Noodle Om...|Instant Noodle - ...| Convenience Foods|                 2000|          R|             0.18|\n",
      "|  6|     Heo cao bồi xốt|       11|   T. Khánh Hòa|20171110|          10|    Foods| 162000.0000000000|  Miền Trung| 141839|  12.5361920000|  109.0192264000|  SM-XX-10KF1062.01|Sterilized Sausag...|Sterilized Sausag...|   Processed Meats|                    0|          R|            0.162|\n",
      "|  7|  Tam Thái Tử nhị ca|       10|TP. Hồ Chí Minh|20171031|          31|    Foods| 150000.0000000000| Hồ Chí Minh|  49794|  10.7481535000|  106.6373147000|SM-FM-10KF0997-1.07|Soya Sauces Tam T...|Soya Sauces - Tam...|         Seasoning|                 6250|          U|             0.15|\n",
      "|  8|          Kokomi Đại|       10|TP. Hồ Chí Minh|20171006|           6|    Foods|  87000.0000000000| Hồ Chí Minh|  88264|  10.7433538000|  106.7313874000|SM-FM-10KF1291-2.07|Instant Noodle Ko...|Instant Noodle - ...| Convenience Foods|                    0|          U|            0.087|\n",
      "|  9|          Kokomi Đại|       11|TP. Hồ Chí Minh|20171104|           4|    Foods|  87000.0000000000| Hồ Chí Minh|  88536|  10.6901297000|  106.7026083000|SM-FM-10KF1291-2.04|Instant Noodle Ko...|Instant Noodle - ...| Convenience Foods|                    0|          R|            0.087|\n",
      "| 10|     Wake up SG 3in1|       11|  T. Bình Phước|20171127|          27|Beverages|1280000.0000000000|   Miền Đông| 171697|  11.5981889000|  106.6173179000|  SM-GV-10KF1139.01|Instant Coffee Wa...|Instant Coffee - ...|            Coffee|                34000|          R|             1.28|\n",
      "| 11|         Wake up 247|        9|  T. Tiền Giang|20170907|           7|Beverages| 170000.0001600000|    Miền Tây| 276968|  10.2793325000|  106.5880875000|  SM-OF-10KF1372.03|Energy Drinks Wak...|Energy Drinks - W...|Refreshment Drinks|                10000|          R|    0.17000000016|\n",
      "| 12|            Vinacafe|        9|     T. Bến Tre|20170911|          11|Beverages| 665000.0000000000|    Miền Tây| 240193|  10.2594259000|  106.1189289000|  SM-FM-10KF1284.06|Instant Cereals V...|Instant Cereals -...|         Nutrition|                96500|          R|            0.665|\n",
      "| 13|       Chinsu Cá Hồi|        9|  T. Bình Phước|20170921|          21|    Foods| 450000.0000000000|   Miền Đông| 157945|  12.0447361000|  107.0930252000|  SM-FM-10KF1106.02|Fish Sauces Chins...|Fish Sauces - Chinsu|         Seasoning|                    0|          R|             0.45|\n",
      "| 14|          Omachi Hộp|       10|   T. Khánh Hòa|20171030|          30|    Foods|  75000.0000000000|  Miền Trung| 144069|  11.9169284000|  109.1567110000|  SM-GV-10KF1066.01|Instant Noodle Om...|Instant Noodle - ...| Convenience Foods|                    0|          U|            0.075|\n",
      "| 15|            Tiến Vua|       11|  T. Bình Dương|20171127|          27|    Foods| 806000.0000000000|   Miền Đông|2223686|  10.9988668000|  106.7285779000|  SM-FM-10KF1170.02|Instant Noodle Ti...|Instant Noodle - ...| Convenience Foods|               186000|          R|            0.806|\n",
      "| 16|           Mì Kokomi|       11|    T. An Giang|20171109|           9|    Foods|1070000.0000000000|    Miền Tây| 128650|  10.7678736000|  105.2068773000|  SM-FM-10KF1008.01|Instant Noodle Ko...|Instant Noodle - ...| Convenience Foods|               202500|          R|             1.07|\n",
      "| 17|            Tiến Vua|       11|     T. Long An|20171118|          18|    Foods|  62000.0000000000|    Miền Tây|2185025|  10.4903681000|  106.4244726000|  SM-FM-10KF1013.02|Instant Noodle Ti...|Instant Noodle - ...| Convenience Foods|                12400|          R|            0.062|\n",
      "| 18|Vĩnh Hảo chai nhự...|       11|    T. Tây Ninh|20171122|          22|Beverages| 140000.0000000000|   Miền Đông| 139397|  11.3198527000|  106.3213144000|  SM-LQ-10KF3175.03|Mineral Water Vĩn...|Mineral Water - V...|Refreshment Drinks|                    0|          R|             0.14|\n",
      "| 19|        Nam Ngư nhất|        9|    T. Hà Giang|20170926|          26|    Foods| 531000.0000000000|    Miền Bắc| 312566|  22.8200647000|  104.9857734000|  SM-MI-10KF1134.01|Fish Sauces Nam N...|Fish Sauces - Nam...|         Seasoning|                    0|          U|            0.531|\n",
      "+---+--------------------+---------+---------------+--------+------------+---------+------------------+------------+-------+---------------+----------------+-------------------+--------------------+--------------------+------------------+---------------------+-----------+-----------------+\n",
      "only showing top 20 rows\n",
      "\n",
      "CPU times: user 2.17 ms, sys: 0 ns, total: 2.17 ms\n",
      "Wall time: 115 ms\n"
     ]
    }
   ],
   "source": [
    "%%time\n",
    "df_transaction.show()"
   ]
  },
  {
   "cell_type": "code",
   "execution_count": 53,
   "metadata": {
    "scrolled": true
   },
   "outputs": [
    {
     "name": "stdout",
     "output_type": "stream",
     "text": [
      "+---+--------------------+---------+---------------+--------+------------+---------+-------------------+------------+-------+---------------+----------------+--------------------+--------------------+--------------------+------------------+---------------------+-----------+-----------------+\n",
      "|_c0|              BRANDY|CAL_MONTH|           CITY|DATE_KEY|DAY_OF_MONTH| DIVISION|        GROSS_SALES|LOCAL_REGION| OUTLET|OUTLET_LATITUDE|OUTLET_LONGITUDE|         POSITION_CD|             STD_SKU|        SUBCAT_BRAND|      SUB_DIVISION|TOTAL_SPENT_PROMOTION|URBAN_RURAL|scale_gross_sales|\n",
      "+---+--------------------+---------+---------------+--------+------------+---------+-------------------+------------+-------+---------------+----------------+--------------------+--------------------+--------------------+------------------+---------------------+-----------+-----------------+\n",
      "| 10|     Wake up SG 3in1|       11|  T. Bình Phước|20171127|          27|Beverages| 1280000.0000000000|   Miền Đông| 171697|  11.5981889000|  106.6173179000|   SM-GV-10KF1139.01|Instant Coffee Wa...|Instant Coffee - ...|            Coffee|                34000|          R|             1.28|\n",
      "| 16|           Mì Kokomi|       11|    T. An Giang|20171109|           9|    Foods| 1070000.0000000000|    Miền Tây| 128650|  10.7678736000|  105.2068773000|   SM-FM-10KF1008.01|Instant Noodle Ko...|Instant Noodle - ...| Convenience Foods|               202500|          R|             1.07|\n",
      "| 35|       Nêm ngon 3 vị|       11|   T. Thái Bình|20171130|          30|    Foods| 1104000.0000000000|    Miền Bắc| 112882|  20.4510000000|  106.3490000000|   SM-GV-10KF0830.01|Granules Nam Ngư ...|  Granules - Nam Ngư|         Seasoning|               118000|          U|            1.104|\n",
      "| 45| Tam Thái Tử nhất ca|        9|  T. Tiền Giang|20170919|          19|    Foods| 1005000.0000000000|    Miền Tây| 264630|  10.3579000000|  106.7380000000|   SM-FM-10KF1372.02|Soya Sauces Tam T...|Soya Sauces - Tam...|         Seasoning|                    0|          R|            1.005|\n",
      "| 61|      Nam Ngư đệ nhị|       11|     T. Hà Tĩnh|20171103|           3|    Foods| 1197000.0000000000|    Miền Bắc| 159585|  18.3374278000|  105.9045842000|   SM-FM-10KF1299.08|Fish Sauces Nam N...|Fish Sauces - Nam...|         Seasoning|                    0|          U|            1.197|\n",
      "| 64|         Wake up 247|       11|    T. Lâm Đồng|20171128|          28|Beverages| 1700000.0000000000|   Miền Đông| 354738|  11.7354572000|  108.3743179000|   SM-OF-10KF1063.05|Energy Drinks Wak...|Energy Drinks - W...|Refreshment Drinks|               127500|          R|              1.7|\n",
      "| 67|      Nam Ngư đệ nhị|       11|TP. Hồ Chí Minh|20171117|          17|    Foods| 1548750.0000000000| Hồ Chí Minh|    508|  10.7939760000|  106.7055273000|   SM-FM-10KF1572.01|Fish Sauces Nam N...|Fish Sauces - Nam...|         Seasoning|                    0|          U|          1.54875|\n",
      "| 85|     Wake up SG 3in1|       10|TP. Hồ Chí Minh|20171023|          23|Beverages| 1280000.0000000000| Hồ Chí Minh| 323561|  10.8109954000|  106.5740060000|SM-FV-10KF1291T03.01|Instant Coffee Wa...|Instant Coffee - ...|            Coffee|               122000|          R|             1.28|\n",
      "| 91|         Omachi base|        9|     TP. Hà Nội|20170906|           6|    Foods| 1008000.0000000000|    Miền Bắc|  62146|  21.0092420000|  105.7774480000|   SM-FM-10KF1192.04|Instant Noodle Om...|Instant Noodle - ...| Convenience Foods|                28000|          U|            1.008|\n",
      "| 97|           Mì Kokomi|       10|     T. Phú Thọ|20171028|          28|    Foods|10200000.0000000000|    Miền Bắc|2175858|  21.4377076000|  105.2307203000|   SM-FM-10KF1266.05|Instant Noodle Ko...|Instant Noodle - ...| Convenience Foods|              1700000|          R|             10.2|\n",
      "| 98|     Heo cao bồi lắc|        9|     TP. Hà Nội|20170922|          22|    Foods| 1944000.0000000000|    Miền Bắc|  98861|  21.0021000000|  105.8080000000|   SM-XX-10KF1722.01|Sterilized Sausag...|Sterilized Sausag...|   Processed Meats|               240800|          U|            1.944|\n",
      "|127|     Wake up SG 3in1|       11|    TP. Cần Thơ|20171117|          17|Beverages| 1372000.0000000000|    Miền Tây|  73745|   9.9977726000|  105.6696177000|   SM-GV-10KF1264.02|Instant Coffee Wa...|Instant Coffee - ...|            Coffee|               137200|          R|            1.372|\n",
      "|135|        Nam Ngư nhất|       10|    T. Lâm Đồng|20171027|          27|    Foods| 1476000.0000000000|   Miền Đông| 178368|  11.5527089000|  107.7858621000|   SM-FM-10KF1650.03|Fish Sauces Nam N...|Fish Sauces - Nam...|         Seasoning|                    0|          U|            1.476|\n",
      "|145|           Mì Kokomi|       11|     T. Yên Bái|20171121|          21|    Foods| 1156000.0000000000|    Miền Bắc| 173696|  21.9404271000|  104.7855960000|   SM-FM-10KF1146.06|Instant Noodle Ko...|Instant Noodle - ...| Convenience Foods|               204000|          R|            1.156|\n",
      "|150|     Wake up SG 3in1|        9|  T. Bình Phước|20170923|          23|Beverages| 2058000.0000000000|   Miền Đông| 225065|  11.5221939000|  106.8938977000|   SM-FM-10KF1267.04|Instant Coffee Wa...|Instant Coffee - ...|            Coffee|               186500|          R|            2.058|\n",
      "|153|     Wake up SG 3in1|       10|   T. Sóc Trăng|20171025|          25|Beverages|12800000.0000000000|    Miền Tây| 125227|   9.5593509000|  105.9893395000|   SM-FV-10KF1632.03|Instant Coffee Wa...|Instant Coffee - ...|            Coffee|               320000|          R|             12.8|\n",
      "|163|      Nam Ngư đệ nhị|       10|    T. Bắc Ninh|20171006|           6|    Foods| 1197000.0000000000|    Miền Bắc| 261963|  21.0156599000|  106.2049160000|   SM-FM-10KF3085.11|Fish Sauces Nam N...|Fish Sauces - Nam...|         Seasoning|                    0|          R|            1.197|\n",
      "|164|        Nam Ngư nhất|       10|     T. Đắk Lắk|20171027|          27|    Foods| 1062000.0000000000|  Miền Trung|2071584|  12.7903469000|  108.2200167000|   SM-FM-10KF1622.04|Fish Sauces Nam N...|Fish Sauces - Nam...|         Seasoning|                    0|          R|            1.062|\n",
      "|165|Nam Ngư siêu tiết...|        9|     T. Gia Lai|20170911|          11|    Foods| 1764000.0000000000|  Miền Trung| 137559|  14.1011567000|  107.9713708000|   SM-FS-10KF1033.01|Fish Sauces Nam N...|Fish Sauces - Nam...|         Seasoning|                    0|          U|            1.764|\n",
      "|171|           Mì Kokomi|       10|  T. Bình Thuận|20171006|           6|    Foods| 1105000.0000000000|   Miền Đông| 316065|  11.2206617000|  108.7370825000|   SM-FM-10KF1229.01|Instant Noodle Ko...|Instant Noodle - ...| Convenience Foods|               132750|          R|            1.105|\n",
      "+---+--------------------+---------+---------------+--------+------------+---------+-------------------+------------+-------+---------------+----------------+--------------------+--------------------+--------------------+------------------+---------------------+-----------+-----------------+\n",
      "only showing top 20 rows\n",
      "\n"
     ]
    }
   ],
   "source": [
    "#Filter with a SQL string\n",
    "df_transaction1 = df_transaction.filter('scale_gross_sales > 1')\n",
    "df_transaction1.show()"
   ]
  },
  {
   "cell_type": "code",
   "execution_count": 54,
   "metadata": {
    "scrolled": true
   },
   "outputs": [
    {
     "name": "stdout",
     "output_type": "stream",
     "text": [
      "+---+--------------------+---------+---------------+--------+------------+---------+-------------------+------------+-------+---------------+----------------+--------------------+--------------------+--------------------+------------------+---------------------+-----------+-----------------+\n",
      "|_c0|              BRANDY|CAL_MONTH|           CITY|DATE_KEY|DAY_OF_MONTH| DIVISION|        GROSS_SALES|LOCAL_REGION| OUTLET|OUTLET_LATITUDE|OUTLET_LONGITUDE|         POSITION_CD|             STD_SKU|        SUBCAT_BRAND|      SUB_DIVISION|TOTAL_SPENT_PROMOTION|URBAN_RURAL|scale_gross_sales|\n",
      "+---+--------------------+---------+---------------+--------+------------+---------+-------------------+------------+-------+---------------+----------------+--------------------+--------------------+--------------------+------------------+---------------------+-----------+-----------------+\n",
      "| 10|     Wake up SG 3in1|       11|  T. Bình Phước|20171127|          27|Beverages| 1280000.0000000000|   Miền Đông| 171697|  11.5981889000|  106.6173179000|   SM-GV-10KF1139.01|Instant Coffee Wa...|Instant Coffee - ...|            Coffee|                34000|          R|             1.28|\n",
      "| 16|           Mì Kokomi|       11|    T. An Giang|20171109|           9|    Foods| 1070000.0000000000|    Miền Tây| 128650|  10.7678736000|  105.2068773000|   SM-FM-10KF1008.01|Instant Noodle Ko...|Instant Noodle - ...| Convenience Foods|               202500|          R|             1.07|\n",
      "| 35|       Nêm ngon 3 vị|       11|   T. Thái Bình|20171130|          30|    Foods| 1104000.0000000000|    Miền Bắc| 112882|  20.4510000000|  106.3490000000|   SM-GV-10KF0830.01|Granules Nam Ngư ...|  Granules - Nam Ngư|         Seasoning|               118000|          U|            1.104|\n",
      "| 45| Tam Thái Tử nhất ca|        9|  T. Tiền Giang|20170919|          19|    Foods| 1005000.0000000000|    Miền Tây| 264630|  10.3579000000|  106.7380000000|   SM-FM-10KF1372.02|Soya Sauces Tam T...|Soya Sauces - Tam...|         Seasoning|                    0|          R|            1.005|\n",
      "| 61|      Nam Ngư đệ nhị|       11|     T. Hà Tĩnh|20171103|           3|    Foods| 1197000.0000000000|    Miền Bắc| 159585|  18.3374278000|  105.9045842000|   SM-FM-10KF1299.08|Fish Sauces Nam N...|Fish Sauces - Nam...|         Seasoning|                    0|          U|            1.197|\n",
      "| 64|         Wake up 247|       11|    T. Lâm Đồng|20171128|          28|Beverages| 1700000.0000000000|   Miền Đông| 354738|  11.7354572000|  108.3743179000|   SM-OF-10KF1063.05|Energy Drinks Wak...|Energy Drinks - W...|Refreshment Drinks|               127500|          R|              1.7|\n",
      "| 67|      Nam Ngư đệ nhị|       11|TP. Hồ Chí Minh|20171117|          17|    Foods| 1548750.0000000000| Hồ Chí Minh|    508|  10.7939760000|  106.7055273000|   SM-FM-10KF1572.01|Fish Sauces Nam N...|Fish Sauces - Nam...|         Seasoning|                    0|          U|          1.54875|\n",
      "| 85|     Wake up SG 3in1|       10|TP. Hồ Chí Minh|20171023|          23|Beverages| 1280000.0000000000| Hồ Chí Minh| 323561|  10.8109954000|  106.5740060000|SM-FV-10KF1291T03.01|Instant Coffee Wa...|Instant Coffee - ...|            Coffee|               122000|          R|             1.28|\n",
      "| 91|         Omachi base|        9|     TP. Hà Nội|20170906|           6|    Foods| 1008000.0000000000|    Miền Bắc|  62146|  21.0092420000|  105.7774480000|   SM-FM-10KF1192.04|Instant Noodle Om...|Instant Noodle - ...| Convenience Foods|                28000|          U|            1.008|\n",
      "| 97|           Mì Kokomi|       10|     T. Phú Thọ|20171028|          28|    Foods|10200000.0000000000|    Miền Bắc|2175858|  21.4377076000|  105.2307203000|   SM-FM-10KF1266.05|Instant Noodle Ko...|Instant Noodle - ...| Convenience Foods|              1700000|          R|             10.2|\n",
      "| 98|     Heo cao bồi lắc|        9|     TP. Hà Nội|20170922|          22|    Foods| 1944000.0000000000|    Miền Bắc|  98861|  21.0021000000|  105.8080000000|   SM-XX-10KF1722.01|Sterilized Sausag...|Sterilized Sausag...|   Processed Meats|               240800|          U|            1.944|\n",
      "|127|     Wake up SG 3in1|       11|    TP. Cần Thơ|20171117|          17|Beverages| 1372000.0000000000|    Miền Tây|  73745|   9.9977726000|  105.6696177000|   SM-GV-10KF1264.02|Instant Coffee Wa...|Instant Coffee - ...|            Coffee|               137200|          R|            1.372|\n",
      "|135|        Nam Ngư nhất|       10|    T. Lâm Đồng|20171027|          27|    Foods| 1476000.0000000000|   Miền Đông| 178368|  11.5527089000|  107.7858621000|   SM-FM-10KF1650.03|Fish Sauces Nam N...|Fish Sauces - Nam...|         Seasoning|                    0|          U|            1.476|\n",
      "|145|           Mì Kokomi|       11|     T. Yên Bái|20171121|          21|    Foods| 1156000.0000000000|    Miền Bắc| 173696|  21.9404271000|  104.7855960000|   SM-FM-10KF1146.06|Instant Noodle Ko...|Instant Noodle - ...| Convenience Foods|               204000|          R|            1.156|\n",
      "|150|     Wake up SG 3in1|        9|  T. Bình Phước|20170923|          23|Beverages| 2058000.0000000000|   Miền Đông| 225065|  11.5221939000|  106.8938977000|   SM-FM-10KF1267.04|Instant Coffee Wa...|Instant Coffee - ...|            Coffee|               186500|          R|            2.058|\n",
      "|153|     Wake up SG 3in1|       10|   T. Sóc Trăng|20171025|          25|Beverages|12800000.0000000000|    Miền Tây| 125227|   9.5593509000|  105.9893395000|   SM-FV-10KF1632.03|Instant Coffee Wa...|Instant Coffee - ...|            Coffee|               320000|          R|             12.8|\n",
      "|163|      Nam Ngư đệ nhị|       10|    T. Bắc Ninh|20171006|           6|    Foods| 1197000.0000000000|    Miền Bắc| 261963|  21.0156599000|  106.2049160000|   SM-FM-10KF3085.11|Fish Sauces Nam N...|Fish Sauces - Nam...|         Seasoning|                    0|          R|            1.197|\n",
      "|164|        Nam Ngư nhất|       10|     T. Đắk Lắk|20171027|          27|    Foods| 1062000.0000000000|  Miền Trung|2071584|  12.7903469000|  108.2200167000|   SM-FM-10KF1622.04|Fish Sauces Nam N...|Fish Sauces - Nam...|         Seasoning|                    0|          R|            1.062|\n",
      "|165|Nam Ngư siêu tiết...|        9|     T. Gia Lai|20170911|          11|    Foods| 1764000.0000000000|  Miền Trung| 137559|  14.1011567000|  107.9713708000|   SM-FS-10KF1033.01|Fish Sauces Nam N...|Fish Sauces - Nam...|         Seasoning|                    0|          U|            1.764|\n",
      "|171|           Mì Kokomi|       10|  T. Bình Thuận|20171006|           6|    Foods| 1105000.0000000000|   Miền Đông| 316065|  11.2206617000|  108.7370825000|   SM-FM-10KF1229.01|Instant Noodle Ko...|Instant Noodle - ...| Convenience Foods|               132750|          R|            1.105|\n",
      "+---+--------------------+---------+---------------+--------+------------+---------+-------------------+------------+-------+---------------+----------------+--------------------+--------------------+--------------------+------------------+---------------------+-----------+-----------------+\n",
      "only showing top 20 rows\n",
      "\n"
     ]
    }
   ],
   "source": [
    "#Filter with a boolean column\n",
    "df_transaction2 = df_transaction.filter(df_transaction.scale_gross_sales > 1)\n",
    "df_transaction2.show()"
   ]
  },
  {
   "cell_type": "code",
   "execution_count": 55,
   "metadata": {},
   "outputs": [],
   "source": [
    "df_selected1 = df_transaction.select('OUTLET', 'STD_SKU', 'scale_gross_sales')"
   ]
  },
  {
   "cell_type": "code",
   "execution_count": 57,
   "metadata": {},
   "outputs": [
    {
     "name": "stdout",
     "output_type": "stream",
     "text": [
      "+-------+--------------------------------------------------+-----------------+\n",
      "|OUTLET |STD_SKU                                           |scale_gross_sales|\n",
      "+-------+--------------------------------------------------+-----------------+\n",
      "|112745 |Chilli Sauces Chinsu 250gr                        |0.432            |\n",
      "|2100552|Instant Noodle Omachi Bò 80gr                     |0.672            |\n",
      "|352731 |Chilli Sauces Chinsu 250gr                        |0.216            |\n",
      "|167131 |Instant Coffee Wake up 3 in 1 Sài Gòn 16gr        |0.0705           |\n",
      "|295806 |Chilli Sauces Rồng Việt 200gr                     |0.12             |\n",
      "|6237   |Instant Noodle Omachi Spaghetti Bò 91gr           |0.18             |\n",
      "|141839 |Sterilized Sausages Heo cao bồi xốt spaghetti 20gr|0.162            |\n",
      "|49794  |Soya Sauces Tam Thái Tử Nhị Ca 500ml              |0.15             |\n",
      "|88264  |Instant Noodle Kokomi Đại hải sản 75gr            |0.087            |\n",
      "|88536  |Instant Noodle Kokomi Đại Tôm 75gr                |0.087            |\n",
      "|171697 |Instant Coffee Wake up 3 in 1 Sài Gòn 19gr        |1.28             |\n",
      "|276968 |Energy Drinks Wake up 247 Cà phê 330ml            |0.17000000016    |\n",
      "|240193 |Instant Cereals Vinacafe Dinh Dưỡng 25gr          |0.665            |\n",
      "|157945 |Fish Sauces Chinsu Cá Hồi đậm đặc 500ml           |0.45             |\n",
      "|144069 |Instant Noodle Omachi Hộp Sườn (có thịt) 113gr    |0.075            |\n",
      "|2223686|Instant Noodle Tiến Vua Tôm 65gr                  |0.806            |\n",
      "|128650 |Instant Noodle Kokomi Tôm 100gói 65gr             |1.07             |\n",
      "|2185025|Instant Noodle Tiến Vua Tôm 65gr                  |0.062            |\n",
      "|139397 |Mineral Water Vĩnh Hảo Không ga 350ml             |0.14             |\n",
      "|312566 |Fish Sauces Nam Ngư 750ml                         |0.531            |\n",
      "+-------+--------------------------------------------------+-----------------+\n",
      "only showing top 20 rows\n",
      "\n"
     ]
    }
   ],
   "source": [
    "df_selected1.show(truncate=False)"
   ]
  },
  {
   "cell_type": "code",
   "execution_count": 58,
   "metadata": {},
   "outputs": [],
   "source": [
    "df_selected2 = df_transaction.select(\n",
    "    df_transaction.OUTLET, \n",
    "    df_transaction.STD_SKU, \n",
    "    df_transaction.scale_gross_sales)"
   ]
  },
  {
   "cell_type": "code",
   "execution_count": 59,
   "metadata": {},
   "outputs": [
    {
     "name": "stdout",
     "output_type": "stream",
     "text": [
      "+-------+--------------------------------------------------+-----------------+\n",
      "|OUTLET |STD_SKU                                           |scale_gross_sales|\n",
      "+-------+--------------------------------------------------+-----------------+\n",
      "|112745 |Chilli Sauces Chinsu 250gr                        |0.432            |\n",
      "|2100552|Instant Noodle Omachi Bò 80gr                     |0.672            |\n",
      "|352731 |Chilli Sauces Chinsu 250gr                        |0.216            |\n",
      "|167131 |Instant Coffee Wake up 3 in 1 Sài Gòn 16gr        |0.0705           |\n",
      "|295806 |Chilli Sauces Rồng Việt 200gr                     |0.12             |\n",
      "|6237   |Instant Noodle Omachi Spaghetti Bò 91gr           |0.18             |\n",
      "|141839 |Sterilized Sausages Heo cao bồi xốt spaghetti 20gr|0.162            |\n",
      "|49794  |Soya Sauces Tam Thái Tử Nhị Ca 500ml              |0.15             |\n",
      "|88264  |Instant Noodle Kokomi Đại hải sản 75gr            |0.087            |\n",
      "|88536  |Instant Noodle Kokomi Đại Tôm 75gr                |0.087            |\n",
      "|171697 |Instant Coffee Wake up 3 in 1 Sài Gòn 19gr        |1.28             |\n",
      "|276968 |Energy Drinks Wake up 247 Cà phê 330ml            |0.17000000016    |\n",
      "|240193 |Instant Cereals Vinacafe Dinh Dưỡng 25gr          |0.665            |\n",
      "|157945 |Fish Sauces Chinsu Cá Hồi đậm đặc 500ml           |0.45             |\n",
      "|144069 |Instant Noodle Omachi Hộp Sườn (có thịt) 113gr    |0.075            |\n",
      "|2223686|Instant Noodle Tiến Vua Tôm 65gr                  |0.806            |\n",
      "|128650 |Instant Noodle Kokomi Tôm 100gói 65gr             |1.07             |\n",
      "|2185025|Instant Noodle Tiến Vua Tôm 65gr                  |0.062            |\n",
      "|139397 |Mineral Water Vĩnh Hảo Không ga 350ml             |0.14             |\n",
      "|312566 |Fish Sauces Nam Ngư 750ml                         |0.531            |\n",
      "+-------+--------------------------------------------------+-----------------+\n",
      "only showing top 20 rows\n",
      "\n"
     ]
    }
   ],
   "source": [
    "df_selected2.show(truncate=False)"
   ]
  },
  {
   "cell_type": "code",
   "execution_count": 63,
   "metadata": {},
   "outputs": [],
   "source": [
    "filterA = df_selected2.STD_SKU == 'Instant Noodle Omachi Bò 80gr'\n",
    "filterB = df_selected2.OUTLET == 2100552"
   ]
  },
  {
   "cell_type": "code",
   "execution_count": 64,
   "metadata": {},
   "outputs": [],
   "source": [
    "df_selected3 = df_selected2.filter(filterA).filter(filterB)"
   ]
  },
  {
   "cell_type": "code",
   "execution_count": 66,
   "metadata": {},
   "outputs": [
    {
     "name": "stdout",
     "output_type": "stream",
     "text": [
      "+-------+-----------------------------+-----------------+\n",
      "|OUTLET |STD_SKU                      |scale_gross_sales|\n",
      "+-------+-----------------------------+-----------------+\n",
      "|2100552|Instant Noodle Omachi Bò 80gr|0.672            |\n",
      "|2100552|Instant Noodle Omachi Bò 80gr|1.512            |\n",
      "|2100552|Instant Noodle Omachi Bò 80gr|1.68             |\n",
      "|2100552|Instant Noodle Omachi Bò 80gr|1.344            |\n",
      "|2100552|Instant Noodle Omachi Bò 80gr|0.672            |\n",
      "|2100552|Instant Noodle Omachi Bò 80gr|0.84             |\n",
      "|2100552|Instant Noodle Omachi Bò 80gr|1.512            |\n",
      "+-------+-----------------------------+-----------------+\n",
      "\n",
      "CPU times: user 2.94 ms, sys: 0 ns, total: 2.94 ms\n",
      "Wall time: 2.33 s\n"
     ]
    }
   ],
   "source": [
    "%%time\n",
    "df_selected3.show(truncate=False)"
   ]
  },
  {
   "cell_type": "code",
   "execution_count": 68,
   "metadata": {},
   "outputs": [],
   "source": [
    "usd_convert = (df_transaction.GROSS_SALES/22000).alias('usd')"
   ]
  },
  {
   "cell_type": "code",
   "execution_count": 71,
   "metadata": {},
   "outputs": [],
   "source": [
    "df_selected4 = df_transaction.select('OUTLET', 'STD_SKU', usd_convert)"
   ]
  },
  {
   "cell_type": "code",
   "execution_count": 73,
   "metadata": {},
   "outputs": [
    {
     "name": "stdout",
     "output_type": "stream",
     "text": [
      "+-------+--------------------------------------------------+------------------+\n",
      "|OUTLET |STD_SKU                                           |usd               |\n",
      "+-------+--------------------------------------------------+------------------+\n",
      "|112745 |Chilli Sauces Chinsu 250gr                        |19.636363636363637|\n",
      "|2100552|Instant Noodle Omachi Bò 80gr                     |30.545454545454547|\n",
      "|352731 |Chilli Sauces Chinsu 250gr                        |9.818181818181818 |\n",
      "|167131 |Instant Coffee Wake up 3 in 1 Sài Gòn 16gr        |3.2045454545454546|\n",
      "|295806 |Chilli Sauces Rồng Việt 200gr                     |5.454545454545454 |\n",
      "|6237   |Instant Noodle Omachi Spaghetti Bò 91gr           |8.181818181818182 |\n",
      "|141839 |Sterilized Sausages Heo cao bồi xốt spaghetti 20gr|7.363636363636363 |\n",
      "|49794  |Soya Sauces Tam Thái Tử Nhị Ca 500ml              |6.818181818181818 |\n",
      "|88264  |Instant Noodle Kokomi Đại hải sản 75gr            |3.9545454545454546|\n",
      "|88536  |Instant Noodle Kokomi Đại Tôm 75gr                |3.9545454545454546|\n",
      "|171697 |Instant Coffee Wake up 3 in 1 Sài Gòn 19gr        |58.18181818181818 |\n",
      "|276968 |Energy Drinks Wake up 247 Cà phê 330ml            |7.727272734545454 |\n",
      "|240193 |Instant Cereals Vinacafe Dinh Dưỡng 25gr          |30.227272727272727|\n",
      "|157945 |Fish Sauces Chinsu Cá Hồi đậm đặc 500ml           |20.454545454545453|\n",
      "|144069 |Instant Noodle Omachi Hộp Sườn (có thịt) 113gr    |3.409090909090909 |\n",
      "|2223686|Instant Noodle Tiến Vua Tôm 65gr                  |36.63636363636363 |\n",
      "|128650 |Instant Noodle Kokomi Tôm 100gói 65gr             |48.63636363636363 |\n",
      "|2185025|Instant Noodle Tiến Vua Tôm 65gr                  |2.8181818181818183|\n",
      "|139397 |Mineral Water Vĩnh Hảo Không ga 350ml             |6.363636363636363 |\n",
      "|312566 |Fish Sauces Nam Ngư 750ml                         |24.136363636363637|\n",
      "+-------+--------------------------------------------------+------------------+\n",
      "only showing top 20 rows\n",
      "\n"
     ]
    }
   ],
   "source": [
    "df_selected4.show(truncate=False)"
   ]
  },
  {
   "cell_type": "code",
   "execution_count": 76,
   "metadata": {},
   "outputs": [],
   "source": [
    "usd_df = df_transaction.selectExpr('OUTLET', 'STD_SKU', 'GROSS_SALES/22000 AS USD')"
   ]
  },
  {
   "cell_type": "code",
   "execution_count": 77,
   "metadata": {},
   "outputs": [
    {
     "name": "stdout",
     "output_type": "stream",
     "text": [
      "+-------+--------------------+------------------+\n",
      "| OUTLET|             STD_SKU|               USD|\n",
      "+-------+--------------------+------------------+\n",
      "| 112745|Chilli Sauces Chi...|19.636363636363637|\n",
      "|2100552|Instant Noodle Om...|30.545454545454547|\n",
      "| 352731|Chilli Sauces Chi...| 9.818181818181818|\n",
      "| 167131|Instant Coffee Wa...|3.2045454545454546|\n",
      "| 295806|Chilli Sauces Rồn...| 5.454545454545454|\n",
      "|   6237|Instant Noodle Om...| 8.181818181818182|\n",
      "| 141839|Sterilized Sausag...| 7.363636363636363|\n",
      "|  49794|Soya Sauces Tam T...| 6.818181818181818|\n",
      "|  88264|Instant Noodle Ko...|3.9545454545454546|\n",
      "|  88536|Instant Noodle Ko...|3.9545454545454546|\n",
      "| 171697|Instant Coffee Wa...| 58.18181818181818|\n",
      "| 276968|Energy Drinks Wak...| 7.727272734545454|\n",
      "| 240193|Instant Cereals V...|30.227272727272727|\n",
      "| 157945|Fish Sauces Chins...|20.454545454545453|\n",
      "| 144069|Instant Noodle Om...| 3.409090909090909|\n",
      "|2223686|Instant Noodle Ti...| 36.63636363636363|\n",
      "| 128650|Instant Noodle Ko...| 48.63636363636363|\n",
      "|2185025|Instant Noodle Ti...|2.8181818181818183|\n",
      "| 139397|Mineral Water Vĩn...| 6.363636363636363|\n",
      "| 312566|Fish Sauces Nam N...|24.136363636363637|\n",
      "+-------+--------------------+------------------+\n",
      "only showing top 20 rows\n",
      "\n"
     ]
    }
   ],
   "source": [
    "usd_df.show()"
   ]
  },
  {
   "cell_type": "code",
   "execution_count": 81,
   "metadata": {},
   "outputs": [],
   "source": [
    "df_transaction = df_transaction.withColumn('GROSS_SALES', df_transaction.GROSS_SALES.cast('double'))"
   ]
  },
  {
   "cell_type": "code",
   "execution_count": 87,
   "metadata": {},
   "outputs": [
    {
     "name": "stdout",
     "output_type": "stream",
     "text": [
      "+----------------+\n",
      "|max(GROSS_SALES)|\n",
      "+----------------+\n",
      "|       3097500.0|\n",
      "+----------------+\n",
      "\n"
     ]
    }
   ],
   "source": [
    "df_transaction.filter(filterB).groupBy().max('GROSS_SALES').show()"
   ]
  },
  {
   "cell_type": "code",
   "execution_count": 82,
   "metadata": {},
   "outputs": [
    {
     "name": "stdout",
     "output_type": "stream",
     "text": [
      "+----------------+\n",
      "|min(GROSS_SALES)|\n",
      "+----------------+\n",
      "|         54000.0|\n",
      "+----------------+\n",
      "\n"
     ]
    }
   ],
   "source": [
    "df_transaction.filter(filterB).groupBy().min('GROSS_SALES').show()"
   ]
  },
  {
   "cell_type": "code",
   "execution_count": 83,
   "metadata": {},
   "outputs": [
    {
     "name": "stdout",
     "output_type": "stream",
     "text": [
      "+----------------+\n",
      "|min(GROSS_SALES)|\n",
      "+----------------+\n",
      "|          2140.0|\n",
      "+----------------+\n",
      "\n"
     ]
    }
   ],
   "source": [
    "df_transaction.groupBy().min('GROSS_SALES').show()"
   ]
  },
  {
   "cell_type": "code",
   "execution_count": 86,
   "metadata": {},
   "outputs": [
    {
     "name": "stdout",
     "output_type": "stream",
     "text": [
      "+----------------+\n",
      "|max(GROSS_SALES)|\n",
      "+----------------+\n",
      "|          4.92E8|\n",
      "+----------------+\n",
      "\n"
     ]
    }
   ],
   "source": [
    "df_transaction.groupBy().max('GROSS_SALES').show()"
   ]
  },
  {
   "cell_type": "code",
   "execution_count": 89,
   "metadata": {},
   "outputs": [
    {
     "name": "stdout",
     "output_type": "stream",
     "text": [
      "+-------+-----+\n",
      "| OUTLET|count|\n",
      "+-------+-----+\n",
      "| 253260|   84|\n",
      "| 227734|   24|\n",
      "|2012669|    9|\n",
      "|2032295|   19|\n",
      "| 161110|   59|\n",
      "|  43462|    5|\n",
      "| 266503|   21|\n",
      "|  98870|   16|\n",
      "|2174449|   49|\n",
      "|  90022|  110|\n",
      "| 180891|   35|\n",
      "|  62646|   28|\n",
      "|  23459|    8|\n",
      "|2212972|  119|\n",
      "| 164418|   70|\n",
      "|2094896|   20|\n",
      "|2081310|   17|\n",
      "|  48738|   49|\n",
      "| 234036|   17|\n",
      "| 121556|   65|\n",
      "+-------+-----+\n",
      "only showing top 20 rows\n",
      "\n",
      "CPU times: user 5.24 ms, sys: 0 ns, total: 5.24 ms\n",
      "Wall time: 4.57 s\n"
     ]
    }
   ],
   "source": [
    "%%time\n",
    "group_outlet = df_transaction.groupBy('OUTLET')\n",
    "group_outlet.count().show()"
   ]
  },
  {
   "cell_type": "code",
   "execution_count": 91,
   "metadata": {},
   "outputs": [
    {
     "name": "stdout",
     "output_type": "stream",
     "text": [
      "+-------+------------------+\n",
      "| OUTLET|  avg(GROSS_SALES)|\n",
      "+-------+------------------+\n",
      "| 253260| 617658.3334023809|\n",
      "| 227734| 410564.5833333333|\n",
      "|2012669|136411.11111111112|\n",
      "|2032295| 202434.2105263158|\n",
      "| 161110| 984762.7118922035|\n",
      "|  43462|      64200.000008|\n",
      "| 266503|111723.80953809523|\n",
      "|  98870|          610500.0|\n",
      "|2174449|282937.75510693877|\n",
      "|  90022|2364339.0910436367|\n",
      "| 180891| 343248.5714285714|\n",
      "|  62646|      360253.57145|\n",
      "|  23459|          410687.5|\n",
      "|2212972| 5236947.846116471|\n",
      "| 164418|1204714.2858342857|\n",
      "|2094896|     272880.000005|\n",
      "|2081310| 203200.0000352941|\n",
      "|  48738|186831.63265510203|\n",
      "| 234036|168394.11764705883|\n",
      "| 121556| 866095.3847212307|\n",
      "+-------+------------------+\n",
      "only showing top 20 rows\n",
      "\n",
      "CPU times: user 3.98 ms, sys: 815 µs, total: 4.8 ms\n",
      "Wall time: 3.92 s\n"
     ]
    }
   ],
   "source": [
    "%%time\n",
    "group_outlet.avg('GROSS_SALES').show()"
   ]
  },
  {
   "cell_type": "code",
   "execution_count": 93,
   "metadata": {},
   "outputs": [],
   "source": [
    "import pyspark.sql.functions as F"
   ]
  },
  {
   "cell_type": "code",
   "execution_count": 94,
   "metadata": {},
   "outputs": [
    {
     "name": "stdout",
     "output_type": "stream",
     "text": [
      "+-------+------------------------+\n",
      "| OUTLET|stddev_samp(GROSS_SALES)|\n",
      "+-------+------------------------+\n",
      "| 253260|       570644.1032924389|\n",
      "| 227734|      141416.47594740882|\n",
      "|2012669|      151899.19720364263|\n",
      "|2032295|      122523.34930832977|\n",
      "| 161110|       2238850.679892904|\n",
      "|  43462|       21273.81017979619|\n",
      "| 266503|        81935.4008199764|\n",
      "|  98870|        619127.747722552|\n",
      "|2174449|       296205.4046101515|\n",
      "|  90022|       4551694.868388649|\n",
      "| 180891|       193708.3015795666|\n",
      "|  62646|       233884.9344902043|\n",
      "|  23459|       273559.7267639059|\n",
      "|2212972|       7213991.182220034|\n",
      "| 164418|       1221865.195495334|\n",
      "|2094896|       236356.6798386246|\n",
      "|2081310|       294818.8935450627|\n",
      "|  48738|      172086.94044550936|\n",
      "| 234036|       82583.47648431432|\n",
      "| 121556|       620996.8077937417|\n",
      "+-------+------------------------+\n",
      "only showing top 20 rows\n",
      "\n"
     ]
    }
   ],
   "source": [
    "group_outlet.agg(F.stddev('GROSS_SALES')).show()"
   ]
  },
  {
   "cell_type": "code",
   "execution_count": 95,
   "metadata": {},
   "outputs": [],
   "source": [
    "spark_csv2 = spark.read.csv(\n",
    "    getPath('data', 'BI', 'XX_PRODUCT_D.csv'), \n",
    "    header=True, \n",
    "    sep=',')"
   ]
  },
  {
   "cell_type": "code",
   "execution_count": 103,
   "metadata": {
    "scrolled": true
   },
   "outputs": [
    {
     "data": {
      "text/plain": [
       "['PRICE_TYPE_CD',\n",
       " 'PRICING_TEXT',\n",
       " 'PR_POSTN_ID',\n",
       " 'VENDR_OU_ID',\n",
       " 'VENDR_PART_NUM',\n",
       " 'ROW_ID',\n",
       " 'ITEM_CODE',\n",
       " 'ITEM_DESC',\n",
       " 'INDUSTRY',\n",
       " 'DIVISION',\n",
       " 'SUB_DIVISION',\n",
       " 'CATEGORY',\n",
       " 'SUB_CATEGORY',\n",
       " 'INDUSTRY_DESC',\n",
       " 'DIVISION_DESC',\n",
       " 'SUB_DIVISION_DESC',\n",
       " 'CATEGORY_DESC',\n",
       " 'SUB_CATEGORY_DESC',\n",
       " 'BRAND',\n",
       " 'BRANDY',\n",
       " 'VARIANT',\n",
       " 'BRAND_DESC',\n",
       " 'BRANDY_DESC',\n",
       " 'VARIANT_DESC',\n",
       " 'PRODUCT_FORM',\n",
       " 'PACK_TYPE',\n",
       " 'PACK_SIZE',\n",
       " 'STANDARD_SKU',\n",
       " 'PRODUCT_FORM_DESC',\n",
       " 'PACK_TYPE_DESC',\n",
       " 'PACK_SIZE_DESC',\n",
       " 'STANDARD_SKU_DESC',\n",
       " 'EBS_ITEMID',\n",
       " 'STATUS',\n",
       " 'ORDERABLE',\n",
       " 'PRIMARY_VENDOR_OPERATING_UNIT',\n",
       " 'UOM1',\n",
       " 'X_MSC_UOM_2',\n",
       " 'UOM1_WEIGHT',\n",
       " 'UOM_2_WEIGHT',\n",
       " 'UOM2_TO_UOM1_CONV_VAL',\n",
       " 'MSRP',\n",
       " 'ROW_WID',\n",
       " 'EFF_START_DATE',\n",
       " 'EFF_END_DATE',\n",
       " 'DIM_ACTIVE_STATUS',\n",
       " 'ORG_DIV',\n",
       " 'PR_EQUIV_PROD_ID',\n",
       " 'X_MSC_PROD_TYPE',\n",
       " 'ALT_PROD_PRICE',\n",
       " 'ALT_ITEM_CODE',\n",
       " 'ALT_ITEM_DESC',\n",
       " 'ALT_UOM2_TO_UOM1_CONV_VAL',\n",
       " 'PROD_RETAIL_PRICE',\n",
       " 'DIVISION_SHORT_DESC',\n",
       " 'SUB_DIVISION_SHORT_DESC',\n",
       " 'CATEGORY_SHORT_DESC',\n",
       " 'SUB_CATEGORY_SHORT_DESC',\n",
       " 'BRANDY_SHORT_DESC',\n",
       " 'KPI_OBJ_CATLOG',\n",
       " 'PAR_ITEM_CODE',\n",
       " 'HIS_FLAG',\n",
       " 'SOURCE',\n",
       " 'BI_TYPE',\n",
       " 'UONW_CODE',\n",
       " 'DMS_PIECE_TO_UONW_CONVERTION',\n",
       " 'UOGW_CODE',\n",
       " 'DMS_PIECE_TO_UOGW_CONVERTION',\n",
       " 'UOV_CODE',\n",
       " 'DMS_PIECE_TO_UOV_CONVERTION',\n",
       " 'RELATED_UOM_CODE',\n",
       " 'DMS_PIECE_TO_RELATED_UOM_CONV',\n",
       " 'POSM_PRICE',\n",
       " 'CAPSULE_UOM',\n",
       " 'PIECE_CAPSULE_CONV',\n",
       " 'TERR_ORG',\n",
       " 'CASE_PACK',\n",
       " 'X_MSC_UOM_2_MATRIX',\n",
       " 'X_MSC_UOM_2_WT',\n",
       " 'X_PIPE_LINE_SKU',\n",
       " 'X_PIPE_LINE_STD',\n",
       " 'CREATED_DATE']"
      ]
     },
     "execution_count": 103,
     "metadata": {},
     "output_type": "execute_result"
    }
   ],
   "source": [
    "spark_csv2.columns"
   ]
  },
  {
   "cell_type": "code",
   "execution_count": 117,
   "metadata": {},
   "outputs": [],
   "source": [
    "\n",
    "spark_csv2 = spark_csv2.drop_duplicates(subset=['STANDARD_SKU'])"
   ]
  },
  {
   "cell_type": "code",
   "execution_count": 118,
   "metadata": {},
   "outputs": [],
   "source": [
    "spark_csv2 = spark_csv2.withColumnRenamed('STANDARD_SKU_DESC', 'STD_SKU')"
   ]
  },
  {
   "cell_type": "code",
   "execution_count": 119,
   "metadata": {},
   "outputs": [
    {
     "name": "stdout",
     "output_type": "stream",
     "text": [
      "+------------+----------------------------------------------+\n",
      "|STANDARD_SKU|STD_SKU                                       |\n",
      "+------------+----------------------------------------------+\n",
      "|853         |Instant Coffee Wake up 3 in 1 Cao Cấp MN 17gr |\n",
      "|7           |Fish Sauces Nam Ngư Chinsu Nam Ngư 500ml      |\n",
      "|307         |Instant Coffee Vinacafe 3 in 1 Chất SG 29gr   |\n",
      "|169         |Sports Drinks Vĩnh Hảo Aktiva Isotonic 500ml  |\n",
      "|205         |Fish Sauces Chinsu 3 ngon 500ml               |\n",
      "|334         |Beer Lager Premium Sư Tử Trắng Light 330ml    |\n",
      "|272         |Sterilized sausages SNF Mini 20gr             |\n",
      "|15          |Fish Sauces Nam Ngư Siêu tiết kiệm 800ml      |\n",
      "|232         |Instant Noodle Omachi Chef Cua 85gr           |\n",
      "|234         |Fish Sauces Nam Ngư Đệ Nhị 4.8L               |\n",
      "|155         |Mineral Water Vĩnh Hảo Không ga 500ml         |\n",
      "|862         |Soya Sauces Tam Thái Tử Thượng hạng 300ml     |\n",
      "|132         |R&G Coffee Vinacafe Mundo 200gr               |\n",
      "|154         |Mineral Water Vĩnh Hảo Không ga 5L            |\n",
      "|317         |Ketchup Chinsu 10gr                           |\n",
      "|101         |Roasted Coffee Bean Vinacafe Thông dụng 1kg   |\n",
      "|11          |Fish Sauces Nam Ngư Chinsu Nam Ngư 900ml      |\n",
      "|854         |Instant Coffee Wake up 3 in 1 Thượng Hạng 24gr|\n",
      "|29          |Soya Sauces Chinsu Tỏi Ớt 500ml               |\n",
      "|309         |Instant Coffee Vinacafe 3 in 1 Chất HN 21gr   |\n",
      "+------------+----------------------------------------------+\n",
      "only showing top 20 rows\n",
      "\n"
     ]
    }
   ],
   "source": [
    "spark_csv2.select('STANDARD_SKU', 'STD_SKU').show(truncate=False)"
   ]
  },
  {
   "cell_type": "code",
   "execution_count": 120,
   "metadata": {},
   "outputs": [],
   "source": [
    "spark_df1 = spark_csv1.join(spark_csv2, on='STD_SKU', how='inner')"
   ]
  },
  {
   "cell_type": "code",
   "execution_count": 109,
   "metadata": {
    "scrolled": true
   },
   "outputs": [
    {
     "data": {
      "text/plain": [
       "['STD_SKU',\n",
       " '_c0',\n",
       " 'BRANDY',\n",
       " 'CAL_MONTH',\n",
       " 'CITY',\n",
       " 'DATE_KEY',\n",
       " 'DAY_OF_MONTH',\n",
       " 'DIVISION',\n",
       " 'GROSS_SALES',\n",
       " 'LOCAL_REGION',\n",
       " 'OUTLET',\n",
       " 'OUTLET_LATITUDE',\n",
       " 'OUTLET_LONGITUDE',\n",
       " 'POSITION_CD',\n",
       " 'SUBCAT_BRAND',\n",
       " 'SUB_DIVISION',\n",
       " 'TOTAL_SPENT_PROMOTION',\n",
       " 'URBAN_RURAL',\n",
       " 'PRICE_TYPE_CD',\n",
       " 'PRICING_TEXT',\n",
       " 'PR_POSTN_ID',\n",
       " 'VENDR_OU_ID',\n",
       " 'VENDR_PART_NUM',\n",
       " 'ROW_ID',\n",
       " 'ITEM_CODE',\n",
       " 'ITEM_DESC',\n",
       " 'INDUSTRY',\n",
       " 'DIVISION',\n",
       " 'SUB_DIVISION',\n",
       " 'CATEGORY',\n",
       " 'SUB_CATEGORY',\n",
       " 'INDUSTRY_DESC',\n",
       " 'DIVISION_DESC',\n",
       " 'SUB_DIVISION_DESC',\n",
       " 'CATEGORY_DESC',\n",
       " 'SUB_CATEGORY_DESC',\n",
       " 'BRAND',\n",
       " 'BRANDY',\n",
       " 'VARIANT',\n",
       " 'BRAND_DESC',\n",
       " 'BRANDY_DESC',\n",
       " 'VARIANT_DESC',\n",
       " 'PRODUCT_FORM',\n",
       " 'PACK_TYPE',\n",
       " 'PACK_SIZE',\n",
       " 'STANDARD_SKU',\n",
       " 'PRODUCT_FORM_DESC',\n",
       " 'PACK_TYPE_DESC',\n",
       " 'PACK_SIZE_DESC',\n",
       " 'EBS_ITEMID',\n",
       " 'STATUS',\n",
       " 'ORDERABLE',\n",
       " 'PRIMARY_VENDOR_OPERATING_UNIT',\n",
       " 'UOM1',\n",
       " 'X_MSC_UOM_2',\n",
       " 'UOM1_WEIGHT',\n",
       " 'UOM_2_WEIGHT',\n",
       " 'UOM2_TO_UOM1_CONV_VAL',\n",
       " 'MSRP',\n",
       " 'ROW_WID',\n",
       " 'EFF_START_DATE',\n",
       " 'EFF_END_DATE',\n",
       " 'DIM_ACTIVE_STATUS',\n",
       " 'ORG_DIV',\n",
       " 'PR_EQUIV_PROD_ID',\n",
       " 'X_MSC_PROD_TYPE',\n",
       " 'ALT_PROD_PRICE',\n",
       " 'ALT_ITEM_CODE',\n",
       " 'ALT_ITEM_DESC',\n",
       " 'ALT_UOM2_TO_UOM1_CONV_VAL',\n",
       " 'PROD_RETAIL_PRICE',\n",
       " 'DIVISION_SHORT_DESC',\n",
       " 'SUB_DIVISION_SHORT_DESC',\n",
       " 'CATEGORY_SHORT_DESC',\n",
       " 'SUB_CATEGORY_SHORT_DESC',\n",
       " 'BRANDY_SHORT_DESC',\n",
       " 'KPI_OBJ_CATLOG',\n",
       " 'PAR_ITEM_CODE',\n",
       " 'HIS_FLAG',\n",
       " 'SOURCE',\n",
       " 'BI_TYPE',\n",
       " 'UONW_CODE',\n",
       " 'DMS_PIECE_TO_UONW_CONVERTION',\n",
       " 'UOGW_CODE',\n",
       " 'DMS_PIECE_TO_UOGW_CONVERTION',\n",
       " 'UOV_CODE',\n",
       " 'DMS_PIECE_TO_UOV_CONVERTION',\n",
       " 'RELATED_UOM_CODE',\n",
       " 'DMS_PIECE_TO_RELATED_UOM_CONV',\n",
       " 'POSM_PRICE',\n",
       " 'CAPSULE_UOM',\n",
       " 'PIECE_CAPSULE_CONV',\n",
       " 'TERR_ORG',\n",
       " 'CASE_PACK',\n",
       " 'X_MSC_UOM_2_MATRIX',\n",
       " 'X_MSC_UOM_2_WT',\n",
       " 'X_PIPE_LINE_SKU',\n",
       " 'X_PIPE_LINE_STD',\n",
       " 'CREATED_DATE']"
      ]
     },
     "execution_count": 109,
     "metadata": {},
     "output_type": "execute_result"
    }
   ],
   "source": [
    "spark_df1.columns"
   ]
  },
  {
   "cell_type": "code",
   "execution_count": 121,
   "metadata": {},
   "outputs": [],
   "source": [
    "spark_df2 = spark_df1.select('CAL_MONTH', 'OUTLET', 'STANDARD_SKU', 'GROSS_SALES')"
   ]
  },
  {
   "cell_type": "code",
   "execution_count": 124,
   "metadata": {},
   "outputs": [],
   "source": [
    "spark_df2 = spark_df2.withColumn('GROSS_SALES', spark_df2.GROSS_SALES.cast('double'))"
   ]
  },
  {
   "cell_type": "code",
   "execution_count": 125,
   "metadata": {},
   "outputs": [
    {
     "name": "stdout",
     "output_type": "stream",
     "text": [
      "+---------+-------+------------+------------+\n",
      "|CAL_MONTH| OUTLET|STANDARD_SKU| GROSS_SALES|\n",
      "+---------+-------+------------+------------+\n",
      "|        9| 112745|          48|    432000.0|\n",
      "|        9|2100552|         238|    672000.0|\n",
      "|        9| 352731|          48|    216000.0|\n",
      "|       10| 167131|         864|     70500.0|\n",
      "|       11| 295806|          55|    120000.0|\n",
      "|       11|   6237|         300|    180000.0|\n",
      "|       11| 141839|         840|    162000.0|\n",
      "|       10|  49794|          37|    150000.0|\n",
      "|       10|  88264|         837|     87000.0|\n",
      "|       11|  88536|         793|     87000.0|\n",
      "|       11| 171697|          97|   1280000.0|\n",
      "|        9| 276968|         166|170000.00016|\n",
      "|        9| 240193|         146|    665000.0|\n",
      "|        9| 157945|           2|    450000.0|\n",
      "|       10| 144069|         848|     75000.0|\n",
      "|       11|2223686|         874|    806000.0|\n",
      "|       11| 128650|         245|   1070000.0|\n",
      "|       11|2185025|         874|     62000.0|\n",
      "|       11| 139397|         153|    140000.0|\n",
      "|        9| 312566|          14|    531000.0|\n",
      "+---------+-------+------------+------------+\n",
      "only showing top 20 rows\n",
      "\n"
     ]
    }
   ],
   "source": [
    "spark_df2.show()"
   ]
  },
  {
   "cell_type": "code",
   "execution_count": 145,
   "metadata": {
    "scrolled": true
   },
   "outputs": [],
   "source": [
    "transaction_data1 = spark_df2.groupBy('CAL_MONTH', 'OUTLET', 'STANDARD_SKU').sum('GROSS_SALES')"
   ]
  },
  {
   "cell_type": "code",
   "execution_count": 146,
   "metadata": {},
   "outputs": [],
   "source": [
    "transaction_data1 = transaction_data1.withColumnRenamed('sum(GROSS_SALES)', 'GROSS_SALES')"
   ]
  },
  {
   "cell_type": "code",
   "execution_count": 147,
   "metadata": {},
   "outputs": [
    {
     "name": "stdout",
     "output_type": "stream",
     "text": [
      "+---------+-------+------------+-----------+\n",
      "|CAL_MONTH| OUTLET|STANDARD_SKU|GROSS_SALES|\n",
      "+---------+-------+------------+-----------+\n",
      "|       11|2298914|         166|    42500.0|\n",
      "|        9| 223340|          62|1360000.002|\n",
      "|       11|  30126|         238|   504000.0|\n",
      "|       11|  62469|         840|   388800.0|\n",
      "|       10| 109729|          28|   264000.0|\n",
      "|       10|2196157|         847|    75000.0|\n",
      "|        9|    545|          17|  1327500.0|\n",
      "|        9|2280578|          97|   205800.0|\n",
      "|        9|2149200|          80|   142800.0|\n",
      "|        9| 266503|         841|   340200.0|\n",
      "|        9|2048894|          13|   2.5584E7|\n",
      "|       10| 192633|          13|   492000.0|\n",
      "|       10|  97277|          62|    68000.0|\n",
      "|       11| 257927|         300|   900000.0|\n",
      "|        9|2068897|         340|130000.0002|\n",
      "|       10| 309661|         155|   891000.0|\n",
      "|       11| 246331|          62|   340000.0|\n",
      "|       10|2176841|         321|   690000.0|\n",
      "|       10| 261786|          14|   531000.0|\n",
      "|       10| 168333|          58|  7392000.0|\n",
      "+---------+-------+------------+-----------+\n",
      "only showing top 20 rows\n",
      "\n"
     ]
    }
   ],
   "source": [
    "transaction_data1.show()"
   ]
  },
  {
   "cell_type": "code",
   "execution_count": 148,
   "metadata": {},
   "outputs": [],
   "source": [
    "transaction_data2 = transaction_data1.groupBy('OUTLET', 'STANDARD_SKU').avg('GROSS_SALES')"
   ]
  },
  {
   "cell_type": "code",
   "execution_count": 149,
   "metadata": {},
   "outputs": [
    {
     "name": "stdout",
     "output_type": "stream",
     "text": [
      "+-------+------------+------------------+\n",
      "| OUTLET|STANDARD_SKU|  avg(GROSS_SALES)|\n",
      "+-------+------------+------------------+\n",
      "| 112785|          13|          1.2792E7|\n",
      "|2217921|          62|          816000.0|\n",
      "| 225803|          17|         2950000.0|\n",
      "| 333993|          80|         2856000.0|\n",
      "| 108578|         841|           36450.0|\n",
      "|2072904|         300|          180000.0|\n",
      "|2154660|          14|          973500.0|\n",
      "|  47505|         152|          162000.0|\n",
      "| 134818|          13|          246000.0|\n",
      "| 161058|          13|          984000.0|\n",
      "|2211503|          13|         2952000.0|\n",
      "|  80942|         146|          665000.0|\n",
      "|2021492|           2|         1350000.0|\n",
      "| 243623|         793|         1595000.0|\n",
      "| 141646|         245|          214000.0|\n",
      "| 143742|         258|1266666.6668333334|\n",
      "| 124128|         238|          616000.0|\n",
      "|  30235|          97|         1477000.0|\n",
      "| 360077|         166|       42500.00004|\n",
      "|  58646|         366|185000.00003333334|\n",
      "+-------+------------+------------------+\n",
      "only showing top 20 rows\n",
      "\n"
     ]
    }
   ],
   "source": [
    "transaction_data2.show()"
   ]
  },
  {
   "cell_type": "code",
   "execution_count": 152,
   "metadata": {},
   "outputs": [],
   "source": [
    "transaction_data2 = transaction_data2.withColumnRenamed('avg(GROSS_SALES)', 'AVG_GROSS_SALES')"
   ]
  },
  {
   "cell_type": "code",
   "execution_count": 153,
   "metadata": {},
   "outputs": [],
   "source": [
    "transaction_data2 = transaction_data2.withColumn('AVG_GROSS_SALES', transaction_data2.AVG_GROSS_SALES/1000000)"
   ]
  },
  {
   "cell_type": "code",
   "execution_count": 157,
   "metadata": {},
   "outputs": [
    {
     "name": "stdout",
     "output_type": "stream",
     "text": [
      "+-------+------------+-------------------+\n",
      "| OUTLET|STANDARD_SKU|    AVG_GROSS_SALES|\n",
      "+-------+------------+-------------------+\n",
      "| 112785|      112785|             12.792|\n",
      "|2217921|     2217921|              0.816|\n",
      "| 225803|      225803|               2.95|\n",
      "| 333993|      333993|              2.856|\n",
      "| 108578|      108578|            0.03645|\n",
      "|2072904|     2072904|               0.18|\n",
      "|2154660|     2154660|             0.9735|\n",
      "|  47505|       47505|              0.162|\n",
      "| 134818|      134818|              0.246|\n",
      "| 161058|      161058|              0.984|\n",
      "|2211503|     2211503|              2.952|\n",
      "|  80942|       80942|              0.665|\n",
      "|2021492|     2021492|               1.35|\n",
      "| 243623|      243623|              1.595|\n",
      "| 141646|      141646|              0.214|\n",
      "| 143742|      143742| 1.2666666668333335|\n",
      "| 124128|      124128|              0.616|\n",
      "|  30235|       30235|              1.477|\n",
      "| 360077|      360077|      0.04250000004|\n",
      "|  58646|       58646|0.18500000003333333|\n",
      "+-------+------------+-------------------+\n",
      "only showing top 20 rows\n",
      "\n"
     ]
    }
   ],
   "source": [
    "transaction_data2.show()"
   ]
  },
  {
   "cell_type": "code",
   "execution_count": 156,
   "metadata": {},
   "outputs": [],
   "source": [
    "transaction_data2 = transaction_data2.withColumn('OUTLET', transaction_data2.OUTLET.cast('integer'))\n",
    "transaction_data2 = transaction_data2.withColumn('STANDARD_SKU', transaction_data2.OUTLET.cast('integer'))"
   ]
  },
  {
   "cell_type": "code",
   "execution_count": null,
   "metadata": {},
   "outputs": [],
   "source": []
  }
 ],
 "metadata": {
  "kernelspec": {
   "display_name": "Python 3",
   "language": "python",
   "name": "python3"
  },
  "language_info": {
   "codemirror_mode": {
    "name": "ipython",
    "version": 3
   },
   "file_extension": ".py",
   "mimetype": "text/x-python",
   "name": "python",
   "nbconvert_exporter": "python",
   "pygments_lexer": "ipython3",
   "version": "3.6.7"
  },
  "toc": {
   "base_numbering": 1,
   "nav_menu": {},
   "number_sections": true,
   "sideBar": true,
   "skip_h1_title": false,
   "title_cell": "Table of Contents",
   "title_sidebar": "Contents",
   "toc_cell": false,
   "toc_position": {},
   "toc_section_display": true,
   "toc_window_display": false
  }
 },
 "nbformat": 4,
 "nbformat_minor": 2
}
